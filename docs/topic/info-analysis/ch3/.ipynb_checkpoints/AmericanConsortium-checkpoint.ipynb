{
 "cells": [
  {
   "cell_type": "code",
   "execution_count": 25,
   "metadata": {
    "collapsed": true
   },
   "outputs": [],
   "source": [
    "import requests\n",
    "from bs4 import BeautifulSoup\n",
    "import MySQLdb\n",
    "import pandas as pd\n",
    "from selenium import webdriver"
   ]
  },
  {
   "cell_type": "code",
   "execution_count": 138,
   "metadata": {
    "collapsed": true
   },
   "outputs": [],
   "source": [
    "url = 'https://www.forbes.com/global2000/list/#country:United States'"
   ]
  },
  {
   "cell_type": "code",
   "execution_count": 147,
   "metadata": {},
   "outputs": [],
   "source": [
    "driver = webdriver.Chrome(executable_path='/Users/matrixxt/Downloads/apps/chromedriver')\n",
    "# 换用无头 webdriver\n",
    "#driver = webdriver.PhantomJS('/Users/matrixxt/Downloads/apps/phantomjs-2.1.1-macosx/bin/phantomjs')"
   ]
  },
  {
   "cell_type": "code",
   "execution_count": 148,
   "metadata": {},
   "outputs": [],
   "source": [
    "driver.get(url)"
   ]
  },
  {
   "cell_type": "code",
   "execution_count": 158,
   "metadata": {},
   "outputs": [],
   "source": [
    "soup = BeautifulSoup(driver.page_source, 'lxml')"
   ]
  },
  {
   "cell_type": "code",
   "execution_count": null,
   "metadata": {
    "collapsed": true
   },
   "outputs": [],
   "source": [
    "driver.close()\n",
    "driver.quit()"
   ]
  },
  {
   "cell_type": "code",
   "execution_count": 159,
   "metadata": {
    "collapsed": true
   },
   "outputs": [],
   "source": [
    "items = soup.find_all('tr', class_='data')"
   ]
  },
  {
   "cell_type": "code",
   "execution_count": 279,
   "metadata": {},
   "outputs": [],
   "source": [
    "list_info = []\n",
    "for item in items[:-1]:\n",
    "    rank = item.find(class_='rank').text\n",
    "    name = item.find(class_='name').text\n",
    "    suburl = item.find(class_='name').a.get('href')\n",
    "    country , revenue, profits, assets, market_value =\\\n",
    "    [td.text for td in item.find_all('td', class_= False)]\n",
    "    dict_info = {'Name': name,\n",
    "                'Rank': int(rank[1:]),\n",
    "                'Suburl': suburl,\n",
    "                'Country': country,\n",
    "                'Revenue': revenue,\n",
    "                 'Profits': profits,\n",
    "                 'Assets': assets,\n",
    "                 'MarketValue': market_value}\n",
    "    list_info.append(dict_info)"
   ]
  },
  {
   "cell_type": "code",
   "execution_count": null,
   "metadata": {
    "scrolled": false
   },
   "outputs": [],
   "source": [
    "for dct in list_info:\n",
    "    suburl = 'https://www.forbes.com' + dct['Suburl']\n",
    "    req = requests.get(suburl)\n",
    "    soup = BeautifulSoup(req.text, 'lxml')\n",
    "    data = soup.find(class_='data has_image')\n",
    "    dd_list = data.find_all('dd')\n",
    "    dct['Industry'] = dd_list[0].text\n",
    "    dct['Founded'] = dd_list[1].text\n",
    "    dct['CEO'] = dd_list[3].text\n",
    "    dct['Employees'] = dd_list[5].text\n",
    "    dct['Headquarters'] = dd_list[7].text"
   ]
  },
  {
   "cell_type": "code",
   "execution_count": null,
   "metadata": {},
   "outputs": [],
   "source": [
    "df = pd.DataFrame(data=list_info)\n",
    "df.set_index('Name',inplace=True)\n",
    "df.sort_values(['Industry','Rank'])"
   ]
  },
  {
   "cell_type": "code",
   "execution_count": null,
   "metadata": {
    "collapsed": true
   },
   "outputs": [],
   "source": []
  },
  {
   "cell_type": "code",
   "execution_count": null,
   "metadata": {
    "collapsed": true
   },
   "outputs": [],
   "source": []
  },
  {
   "cell_type": "markdown",
   "metadata": {},
   "source": [
    "参考：\n",
    "- [盘点selenium phantomJS使用的坑 - CSDN博客](https://blog.csdn.net/FontThrone/article/details/71390739)\n",
    "- [python爬虫积累（一）--------selenium+python+PhantomJS的使用 - 今孝 - 博客园](http://www.cnblogs.com/jinxiao-pu/p/6677782.html)"
   ]
  },
  {
   "cell_type": "code",
   "execution_count": null,
   "metadata": {
    "collapsed": true
   },
   "outputs": [],
   "source": []
  }
 ],
 "metadata": {
  "kernelspec": {
   "display_name": "Python 3",
   "language": "python",
   "name": "python3"
  },
  "language_info": {
   "codemirror_mode": {
    "name": "ipython",
    "version": 3
   },
   "file_extension": ".py",
   "mimetype": "text/x-python",
   "name": "python",
   "nbconvert_exporter": "python",
   "pygments_lexer": "ipython3",
   "version": "3.6.3"
  }
 },
 "nbformat": 4,
 "nbformat_minor": 2
}
